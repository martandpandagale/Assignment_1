{
 "cells": [
  {
   "cell_type": "code",
   "execution_count": 2,
   "id": "4a567c32",
   "metadata": {},
   "outputs": [
    {
     "data": {
      "text/plain": [
       "'\\nWrite a python function to find and display the five \\ndigit number in which the first digit is two more than \\nthe second,the second digit is two more than the third,\\nthe fourth digit is two less than the third, and the \\nlast digit is two more than\\nthe fourth.The sum of the third,fourth and fifth digits\\nequals the first.The sum of all the digits is 19\\n'"
      ]
     },
     "execution_count": 2,
     "metadata": {},
     "output_type": "execute_result"
    }
   ],
   "source": [
    "\"\"\"\n",
    "Write a python function to find and display the five \n",
    "digit number in which the first digit is two more than \n",
    "the second,the second digit is two more than the third,\n",
    "the fourth digit is two less than the third, and the \n",
    "last digit is two more than\n",
    "the fourth.The sum of the third,fourth and fifth digits\n",
    "equals the first.The sum of all the digits is 19\n",
    "\"\"\""
   ]
  },
  {
   "cell_type": "code",
   "execution_count": 7,
   "id": "e0c8db5d",
   "metadata": {},
   "outputs": [
    {
     "ename": "SyntaxError",
     "evalue": "'continue' not properly in loop (2593021966.py, line 14)",
     "output_type": "error",
     "traceback": [
      "\u001b[1;36m  Input \u001b[1;32mIn [7]\u001b[1;36m\u001b[0m\n\u001b[1;33m    continue\u001b[0m\n\u001b[1;37m    ^\u001b[0m\n\u001b[1;31mSyntaxError\u001b[0m\u001b[1;31m:\u001b[0m 'continue' not properly in loop\n"
     ]
    }
   ],
   "source": [
    "def five_digit_no():\n",
    "    for i in range(0,10):\n",
    "        first=i\n",
    "        second=i-2\n",
    "        third=i-4\n",
    "        fourth=i-6\n",
    "        five=i-4\n",
    "        num=0\n",
    "    if (first==(third+fourth+five) and sum([first,second,third,fourth,five]==19)):\n",
    "        for i in [first,second,third,fourth,five]:\n",
    "            num=num+i\n",
    "            print(num)\n",
    "    else:\n",
    "        continue\n",
    "        five_digit_no()\n",
    "        "
   ]
  },
  {
   "cell_type": "code",
   "execution_count": 1,
   "id": "c17eb7b5",
   "metadata": {},
   "outputs": [
    {
     "data": {
      "text/plain": [
       "'C:\\\\Users\\\\admin'"
      ]
     },
     "execution_count": 1,
     "metadata": {},
     "output_type": "execute_result"
    }
   ],
   "source": [
    "pwd\n"
   ]
  },
  {
   "cell_type": "code",
   "execution_count": 3,
   "id": "c454c459",
   "metadata": {},
   "outputs": [],
   "source": [
    "def five_digit_no():\n",
    "    for i in range(9,0,-1):\n",
    "        first=i\n",
    "        second=i-2\n",
    "        third=i-4\n",
    "        fourth=i-6\n",
    "        five=i-4\n",
    "        if third+fourth+five==first:\n",
    "            if (first+second+third+fourth+five)==19:\n",
    "                return (int(str(first)+str(second)+str(third)+str(fourth)+str(five)))\n",
    "        \n",
    "            "
   ]
  },
  {
   "cell_type": "code",
   "execution_count": 4,
   "id": "64a9d5c7",
   "metadata": {},
   "outputs": [
    {
     "data": {
      "text/plain": [
       "75313"
      ]
     },
     "execution_count": 4,
     "metadata": {},
     "output_type": "execute_result"
    }
   ],
   "source": [
    "five_digit_no()"
   ]
  },
  {
   "cell_type": "code",
   "execution_count": 5,
   "id": "cb2e00d9",
   "metadata": {},
   "outputs": [],
   "source": [
    "def find_five_no():\n",
    "    for i in range(9,0,-1):\n",
    "        first=i\n",
    "        second=i-2\n",
    "        third=i-4\n",
    "        fourth=i-6\n",
    "        fifth=i-4\n",
    "        if third+fourth+fifth==first:\n",
    "            if(first+second+third+fourth+fifth)==19:\n",
    "                return(int(str(first)+str(second)+str(third)+str(fourth)+str(fifth)))"
   ]
  },
  {
   "cell_type": "code",
   "execution_count": 6,
   "id": "bb2a8544",
   "metadata": {},
   "outputs": [
    {
     "data": {
      "text/plain": [
       "75313"
      ]
     },
     "execution_count": 6,
     "metadata": {},
     "output_type": "execute_result"
    }
   ],
   "source": [
    "find_five_no()"
   ]
  },
  {
   "cell_type": "code",
   "execution_count": null,
   "id": "d2ffda21",
   "metadata": {},
   "outputs": [],
   "source": []
  }
 ],
 "metadata": {
  "kernelspec": {
   "display_name": "Python 3 (ipykernel)",
   "language": "python",
   "name": "python3"
  },
  "language_info": {
   "codemirror_mode": {
    "name": "ipython",
    "version": 3
   },
   "file_extension": ".py",
   "mimetype": "text/x-python",
   "name": "python",
   "nbconvert_exporter": "python",
   "pygments_lexer": "ipython3",
   "version": "3.9.12"
  }
 },
 "nbformat": 4,
 "nbformat_minor": 5
}
